{
  "nbformat": 4,
  "nbformat_minor": 0,
  "metadata": {
    "colab": {
      "provenance": []
    },
    "kernelspec": {
      "name": "python3",
      "display_name": "Python 3"
    },
    "language_info": {
      "name": "python"
    }
  },
  "cells": [
    {
      "cell_type": "markdown",
      "source": [
        "# **0 - setup** 🫙"
      ],
      "metadata": {
        "id": "QgW4balcaj4B"
      }
    },
    {
      "cell_type": "markdown",
      "source": [
        "##**0.1** - install"
      ],
      "metadata": {
        "id": "d2p0eeI0bEo4"
      }
    },
    {
      "cell_type": "markdown",
      "source": [
        "##**0.2** - import"
      ],
      "metadata": {
        "id": "Je6EaUPdbH4j"
      }
    },
    {
      "cell_type": "markdown",
      "source": [
        "##**0.3** - utils"
      ],
      "metadata": {
        "id": "FMfcJ8B0bO0Y"
      }
    },
    {
      "cell_type": "markdown",
      "source": [
        "# **1 - source** 🔥"
      ],
      "metadata": {
        "id": "9rvIwDcha3xS"
      }
    },
    {
      "cell_type": "markdown",
      "source": [
        "## **1.1** - data"
      ],
      "metadata": {
        "id": "hPRaDMWNbYy1"
      }
    },
    {
      "cell_type": "markdown",
      "source": [
        "## **1.2** - model"
      ],
      "metadata": {
        "id": "kicFRVbpbfNE"
      }
    },
    {
      "cell_type": "markdown",
      "source": [
        "## **1.3** - training"
      ],
      "metadata": {
        "id": "NnzlGWUQbm_N"
      }
    },
    {
      "cell_type": "markdown",
      "source": [
        "#**2 - script** ⚗️"
      ],
      "metadata": {
        "id": "RjGBNPo4a4Qj"
      }
    },
    {
      "cell_type": "markdown",
      "source": [
        "## **2.1** - data"
      ],
      "metadata": {
        "id": "3v1bbzRsbyV9"
      }
    },
    {
      "cell_type": "markdown",
      "source": [
        "## **2.2** - model"
      ],
      "metadata": {
        "id": "cdA0bTltby1L"
      }
    },
    {
      "cell_type": "markdown",
      "source": [
        "## **2.3** - training"
      ],
      "metadata": {
        "id": "StrFDX8UbxVF"
      }
    }
  ]
}